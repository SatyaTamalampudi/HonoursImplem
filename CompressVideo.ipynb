{
 "cells": [
  {
   "cell_type": "code",
   "execution_count": 326,
   "metadata": {},
   "outputs": [],
   "source": [
    "import cv2\n",
    "import numpy as np\n",
    "import os\n",
    "from cv2 import VideoWriter, VideoWriter_fourcc, imread, resize\n",
    "from PIL import Image\n",
    "import matplotlib.pyplot as plt\n",
    "from sklearn.ensemble import RandomForestClassifier\n",
    "from sklearn.svm import SVC\n",
    "from sklearn.metrics import confusion_matrix\n",
    "from sklearn.metrics import classification_report"
   ]
  },
  {
   "cell_type": "markdown",
   "metadata": {},
   "source": [
    "The OS module in Python provides a way of using operating system dependent functionality.\n",
    "Python method listdir() returns a list containing the names of the entries in the directory given by path.\n",
    "os.chdir() method in Python used to change the current working directory to specified path."
   ]
  },
  {
   "cell_type": "code",
   "execution_count": 310,
   "metadata": {},
   "outputs": [
    {
     "name": "stdout",
     "output_type": "stream",
     "text": [
      "C:\\Users\\tetal\\AI\\DividedDataSet\n"
     ]
    }
   ],
   "source": [
    "print(os.getcwd()) "
   ]
  },
  {
   "cell_type": "code",
   "execution_count": 309,
   "metadata": {},
   "outputs": [],
   "source": [
    "# Folder which contains all the images \n",
    "# from which video is to be generated \n",
    "path = \"C:\\\\Users\\\\tetal\\\\AI\\\\DividedDataSet\"\n",
    "os.chdir(path)"
   ]
  },
  {
   "cell_type": "code",
   "execution_count": 45,
   "metadata": {},
   "outputs": [
    {
     "name": "stdout",
     "output_type": "stream",
     "text": [
      "201\n"
     ]
    }
   ],
   "source": [
    "mean_height = 0\n",
    "mean_width = 0\n",
    "\n",
    "num_of_images = len(os.listdir('.')) \n",
    "print(num_of_images) "
   ]
  },
  {
   "cell_type": "code",
   "execution_count": 46,
   "metadata": {},
   "outputs": [],
   "source": [
    "image_folder = 'C:\\\\Users\\\\tetal\\\\AI\\\\DividedDataSet\\\\Training\\\\Train024' # make sure to use your folder \n",
    "#video_name = 'mygeneratedvideo2.mp4\n",
    "\n",
    "images = [img for img in os.listdir(path) \n",
    "if img.endswith(\".tif\") or\n",
    "    img.endswith(\".jpeg\") or\n",
    "    img.endswith(\"png\")] \n",
    "#print(images)"
   ]
  },
  {
   "cell_type": "code",
   "execution_count": 40,
   "metadata": {},
   "outputs": [
    {
     "ename": "PermissionError",
     "evalue": "[Errno 13] Permission denied: 'C:\\\\Users\\\\tetal\\\\AI\\\\DividedDataSet\\\\Testing'",
     "output_type": "error",
     "traceback": [
      "\u001b[1;31m---------------------------------------------------------------------------\u001b[0m",
      "\u001b[1;31mPermissionError\u001b[0m                           Traceback (most recent call last)",
      "\u001b[1;32m<ipython-input-40-adac78f41277>\u001b[0m in \u001b[0;36m<module>\u001b[1;34m\u001b[0m\n\u001b[0;32m      1\u001b[0m \u001b[1;32mfor\u001b[0m \u001b[0mfile\u001b[0m \u001b[1;32min\u001b[0m \u001b[0mos\u001b[0m\u001b[1;33m.\u001b[0m\u001b[0mlistdir\u001b[0m\u001b[1;33m(\u001b[0m\u001b[1;34m'.'\u001b[0m\u001b[1;33m)\u001b[0m\u001b[1;33m:\u001b[0m\u001b[1;33m\u001b[0m\u001b[1;33m\u001b[0m\u001b[0m\n\u001b[1;32m----> 2\u001b[1;33m     \u001b[0mim\u001b[0m \u001b[1;33m=\u001b[0m \u001b[0mImage\u001b[0m\u001b[1;33m.\u001b[0m\u001b[0mopen\u001b[0m\u001b[1;33m(\u001b[0m\u001b[0mos\u001b[0m\u001b[1;33m.\u001b[0m\u001b[0mpath\u001b[0m\u001b[1;33m.\u001b[0m\u001b[0mjoin\u001b[0m\u001b[1;33m(\u001b[0m\u001b[0mpath\u001b[0m\u001b[1;33m,\u001b[0m \u001b[0mfile\u001b[0m\u001b[1;33m)\u001b[0m\u001b[1;33m)\u001b[0m\u001b[1;33m\u001b[0m\u001b[1;33m\u001b[0m\u001b[0m\n\u001b[0m\u001b[0;32m      3\u001b[0m     \u001b[0mwidth\u001b[0m\u001b[1;33m,\u001b[0m \u001b[0mheight\u001b[0m \u001b[1;33m=\u001b[0m \u001b[0mim\u001b[0m\u001b[1;33m.\u001b[0m\u001b[0msize\u001b[0m\u001b[1;33m\u001b[0m\u001b[1;33m\u001b[0m\u001b[0m\n\u001b[0;32m      4\u001b[0m     \u001b[0mmean_width\u001b[0m \u001b[1;33m+=\u001b[0m \u001b[0mwidth\u001b[0m\u001b[1;33m\u001b[0m\u001b[1;33m\u001b[0m\u001b[0m\n\u001b[0;32m      5\u001b[0m     \u001b[0mmean_height\u001b[0m \u001b[1;33m+=\u001b[0m \u001b[0mheight\u001b[0m\u001b[1;33m\u001b[0m\u001b[1;33m\u001b[0m\u001b[0m\n",
      "\u001b[1;32m~\\Anaconda3\\lib\\site-packages\\PIL\\Image.py\u001b[0m in \u001b[0;36mopen\u001b[1;34m(fp, mode)\u001b[0m\n\u001b[0;32m   2764\u001b[0m \u001b[1;33m\u001b[0m\u001b[0m\n\u001b[0;32m   2765\u001b[0m     \u001b[1;32mif\u001b[0m \u001b[0mfilename\u001b[0m\u001b[1;33m:\u001b[0m\u001b[1;33m\u001b[0m\u001b[1;33m\u001b[0m\u001b[0m\n\u001b[1;32m-> 2766\u001b[1;33m         \u001b[0mfp\u001b[0m \u001b[1;33m=\u001b[0m \u001b[0mbuiltins\u001b[0m\u001b[1;33m.\u001b[0m\u001b[0mopen\u001b[0m\u001b[1;33m(\u001b[0m\u001b[0mfilename\u001b[0m\u001b[1;33m,\u001b[0m \u001b[1;34m\"rb\"\u001b[0m\u001b[1;33m)\u001b[0m\u001b[1;33m\u001b[0m\u001b[1;33m\u001b[0m\u001b[0m\n\u001b[0m\u001b[0;32m   2767\u001b[0m         \u001b[0mexclusive_fp\u001b[0m \u001b[1;33m=\u001b[0m \u001b[1;32mTrue\u001b[0m\u001b[1;33m\u001b[0m\u001b[1;33m\u001b[0m\u001b[0m\n\u001b[0;32m   2768\u001b[0m \u001b[1;33m\u001b[0m\u001b[0m\n",
      "\u001b[1;31mPermissionError\u001b[0m: [Errno 13] Permission denied: 'C:\\\\Users\\\\tetal\\\\AI\\\\DividedDataSet\\\\Testing'"
     ]
    }
   ],
   "source": [
    "for file in os.listdir('.'): \n",
    "    im = Image.open(os.path.join(path, file)) \n",
    "    width, height = im.size \n",
    "    mean_width += width \n",
    "    mean_height += height \n",
    "    # im.show() # uncomment this for displaying the image \n",
    "\n",
    "# Finding the mean height and width of all images. \n",
    "# This is required because the video frame needs \n",
    "# to be set with same width and height. Otherwise \n",
    "# images not equal to that width height will not get \n",
    "# embedded into the video \n",
    "mean_width = int(mean_width / num_of_images) \n",
    "mean_height = int(mean_height / num_of_images) \n",
    "\n",
    "# print(mean_height) \n",
    "# print(mean_width) \n",
    "\n",
    "# Resizing of the images to give \n",
    "# them same width and height \n",
    "for file in os.listdir('.'): \n",
    "    if file.endswith(\".tif\") or file.endswith(\".jpeg\") or file.endswith(\"png\"): \n",
    "        # opening image using PIL Image \n",
    "        im = Image.open(os.path.join(path, file)) \n",
    "\n",
    "        # im.size includes the height and width of image \n",
    "        width, height = im.size \n",
    "        print(width, height) \n",
    "\n",
    "        # resizing \n",
    "        imResize = im.resize((238, 158), Image.ANTIALIAS) \n",
    "        imResize.save( file, \"JPEG\",quality = 95) # setting quality \n",
    "        # printing each resized image name \n",
    "        print(im.filename.split('\\\\')[-1], \" is resized\") \n"
   ]
  },
  {
   "cell_type": "code",
   "execution_count": 8,
   "metadata": {},
   "outputs": [],
   "source": [
    "# Video Generating function \n",
    "def generate_video(images,outvid=None, fps=10, size=None,\n",
    "               is_color=True, format=\"XVID\"): \n",
    "\t#image_folder = 'C:\\\\Users\\\\tetal\\\\AI\\\\Test001' # make sure to use your folder \n",
    "\tvideo_name = 'mygeneratedvideo1.mp4'\n",
    "\t#os.chdir(\"C:\\\\Users\\\\tetal\\\\AI\\\\Test001\") \n",
    "\t\n",
    "\t#images = [img for img in os.listdir(image_folder) \n",
    "\t\t\t#if img.endswith(\".tif\") or\n",
    "\t\t\t\t#img.endswith(\".jpeg\") or\n",
    "\t\t\t\t#img.endswith(\"png\")] \n",
    "\t\n",
    "\t# Array images should only consider \n",
    "\t# the image files ignoring others if any \n",
    "\t#print(images) \n",
    "\n",
    "\tframe = cv2.imread(os.path.join(image_folder, images[0])) \n",
    "\n",
    "\t# setting the frame width, height width \n",
    "\t# the width, height of first image \n",
    "\theight, width, layers = frame.shape \n",
    "\tfourcc = VideoWriter_fourcc(*format)\n",
    "\tvideo = VideoWriter(video_name, fourcc, float(fps), (238, 158), is_color)\n",
    "\n",
    "\t# Appending the images to the video one by one \n",
    "\tfor image in images: \n",
    "\t\tvideo.write(cv2.imread(os.path.join(image_folder, image))) \n",
    "\t\n",
    "\t# Deallocating memories taken for window creation \n",
    "\tcv2.destroyAllWindows() \n",
    "    \n",
    "\tvideo.release() # releasing the video generated \n",
    "\n"
   ]
  },
  {
   "cell_type": "code",
   "execution_count": 9,
   "metadata": {},
   "outputs": [],
   "source": [
    "# Calling the generate_video function \n",
    "generate_video(images) "
   ]
  },
  {
   "cell_type": "markdown",
   "metadata": {},
   "source": [
    "# Generating x,y feature vectors(mag, direction)\n",
    "    Storing all the values from videos to one big array."
   ]
  },
  {
   "cell_type": "code",
   "execution_count": 27,
   "metadata": {},
   "outputs": [],
   "source": [
    "#Big arraycontains magnitude of all the videos in training set\n",
    "mag_Bigarray_train = []\n",
    "mag_Bigarray_test = []\n"
   ]
  },
  {
   "cell_type": "code",
   "execution_count": null,
   "metadata": {},
   "outputs": [],
   "source": []
  },
  {
   "cell_type": "code",
   "execution_count": null,
   "metadata": {},
   "outputs": [],
   "source": []
  },
  {
   "cell_type": "markdown",
   "metadata": {},
   "source": [
    "# Sparse Optical Flow"
   ]
  },
  {
   "cell_type": "code",
   "execution_count": 322,
   "metadata": {},
   "outputs": [
    {
     "name": "stdout",
     "output_type": "stream",
     "text": [
      "satya\n"
     ]
    }
   ],
   "source": [
    "cap = cv2.VideoCapture('mygeneratedvideo1.mp4')\n",
    "print(\"satya\")\n",
    "# params for ShiTomasi corner detection\n",
    "feature_params = dict( maxCorners = 25,\n",
    "                       qualityLevel = 0.2,\n",
    "                       minDistance = 4,\n",
    "                       blockSize = 7 )\n",
    "\n",
    "# Parameters for lucas kanade optical flow\n",
    "lk_params = dict( winSize  = (15,15),\n",
    "                  maxLevel = 2,\n",
    "                  criteria = (cv2.TERM_CRITERIA_EPS | cv2.TERM_CRITERIA_COUNT, 10, 0.03))\n",
    "\n",
    "# Create some random colors\n",
    "color = np.random.randint(0,255,(100,3))\n",
    "\n",
    "# Take first frame and find corners in it\n",
    "ret, old_frame = cap.read()\n",
    "old_gray = cv2.cvtColor(old_frame, cv2.COLOR_BGR2GRAY)\n",
    "p0 = cv2.goodFeaturesToTrack(old_gray, mask = None, **feature_params)\n",
    "\n",
    "# Create a mask image for drawing purposes\n",
    "mask = np.zeros_like(old_frame)\n",
    "\n",
    "count=0\n",
    "index = 0;\n",
    "ret,frame = cap.read()\n",
    "while(ret):\n",
    "   \n",
    "    frame_gray = cv2.cvtColor(frame, cv2.COLOR_BGR2GRAY)\n",
    "\n",
    "    # calculate optical flow\n",
    "    p1, st, err = cv2.calcOpticalFlowPyrLK(old_gray, frame_gray, p0, None, **lk_params)\n",
    "    #print(err)\n",
    "    # Select good points\n",
    "    good_new = p1[st==1]\n",
    "    #print(good_new)\n",
    "    good_old = p0[st==1]\n",
    "    #print(good_old)\n",
    "    \n",
    "    \n",
    "    # draw the tracks\n",
    "    for i,(new,old) in enumerate(zip(good_new,good_old)):\n",
    "        \n",
    "        \n",
    "        a,b = new.ravel()\n",
    "        #print(a,b)\n",
    "        c,d = old.ravel()\n",
    "        #print(c,d)\n",
    "\n",
    "        #print(c-a,d-b)\n",
    "        if((a>c) & (b>d)):\n",
    "            mask = cv2.line(mask, (a,b),(c,d), color[i].tolist(), 2)\n",
    "            frame = cv2.circle(frame,(a,b),5,color[i].tolist(),-1)\n",
    "    img = cv2.add(frame,mask)\n",
    "\n",
    "    cv2.imshow('frame',img)\n",
    "    k = cv2.waitKey(30) & 0xff\n",
    "    if k == 27:\n",
    "        break\n",
    "\n",
    "    # Now update the previous frame and previous points\n",
    "    old_gray = frame_gray.copy()\n",
    "    p0 = good_new.reshape(-1,1,2)\n",
    "    #print(p0)\n",
    "    ret,frame = cap.read()\n",
    "    \n",
    "cv2.destroyAllWindows()\n",
    "cap.release()"
   ]
  },
  {
   "cell_type": "markdown",
   "metadata": {},
   "source": [
    "# Dense Optical Flow"
   ]
  },
  {
   "cell_type": "code",
   "execution_count": 307,
   "metadata": {},
   "outputs": [
    {
     "name": "stdout",
     "output_type": "stream",
     "text": [
      "(7483196,)\n"
     ]
    }
   ],
   "source": [
    "cap = cv2.VideoCapture(\"mygeneratedvideo68.mp4\")\n",
    "ret, frame1 = cap.read() #returns a bool (True/False). If frame is read correctly, it will be True. So you can check end of the video by checking this return value.\n",
    "#print(frame1.shape)\n",
    "prvs = cv2.cvtColor(frame1,cv2.COLOR_BGR2GRAY)\n",
    "hsv = np.zeros_like(frame1) # Return a array of zeros of same type and shape as given array\n",
    "hsv[...,1] = 255\n",
    "count=0\n",
    "index = 0;\n",
    "ret, frame2 = cap.read()\n",
    "mag_fullarray = []\n",
    "#print(mag_fullarray)\n",
    "while(ret):\n",
    "   \n",
    "    next = cv2.cvtColor(frame2,cv2.COLOR_BGR2GRAY) #For BGR \\rightarrow Gray conversion we use the flags cv2.COLOR_BGR2GRAY\n",
    "\n",
    "    flow = cv2.calcOpticalFlowFarneback(prvs,next, None, 0.5, 3, 15, 3, 5, 1.2, 0)\n",
    "    #prvs = next;\n",
    "    pixel_array = np.array(flow)\n",
    "    #print(pixel_array[0].shape)\n",
    "    #print (\"flow\",flow)\n",
    "    mag, ang = cv2.cartToPolar(flow[...,0], flow[...,1])\n",
    "    #print(\"magnitude\",mag)\n",
    "    #print(mag.shape)\n",
    "    flattened_image = mag.flatten() # flatten the whole array as one input instead of 439 inputs\n",
    "    mag_fullarray.append(flattened_image)\n",
    "    \n",
    "    #flattened_image = mag.flatten() # flatten the whole array as one input instead of 439 inputs\n",
    "    \n",
    "    #mag_array = np.array(mag)\n",
    "    #print(mag_array.shape)\n",
    "    #print(\"mag\",mag.shape)\n",
    "    #plt.hist(mag_array,bins=3)\n",
    "    #plt.show()\n",
    "    #print(len((mag_array)))\n",
    "    hsv[...,0] = ang*180/np.pi/2\n",
    "    hsv[...,2] = cv2.normalize(mag,None,0,255,cv2.NORM_MINMAX)\n",
    "    #print(hsv)\n",
    "    rgb = cv2.cvtColor(hsv,cv2.COLOR_HSV2BGR)\n",
    "    #if count==10:\n",
    "        #count=0\n",
    "        \n",
    "       # print (\"flow\",flow)\n",
    "        \n",
    "    cv2.imshow('frame2',rgb)\n",
    "    count=count+1\n",
    "    k = cv2.waitKey(30) & 0xff\n",
    "    if k == 27:\n",
    "        break\n",
    "    elif k == ord('s'):    \n",
    "        prvs = next\n",
    "    ret, frame2 = cap.read()\n",
    "    index = index+1\n",
    "    #print(index)\n",
    "\n",
    "\n",
    "mag_array = np.array(mag_fullarray)\n",
    "#print(\"magfullarray\",mag_fullarray[0])\n",
    "flatten_video = mag_array.flatten() # flatten the whole array as one input instead of 439 inputs\n",
    "print(flatten_video.shape)\n",
    "flatten_video.reshape((199,37604))\n",
    "#print(flatten_video.shape[1])\n",
    "#mag_Bigarray_train = np.array(flatten_video)\n",
    "#mag_Bigarray_train += flatten_video\n",
    "mag_Bigarray_test.append(flatten_video)\n",
    "#print(\"mag_Bigarray_train\",mag_Bigarray_train[45])\n",
    "cap.release()\n",
    "cv2.destroyAllWindows()"
   ]
  },
  {
   "cell_type": "code",
   "execution_count": 308,
   "metadata": {},
   "outputs": [
    {
     "name": "stdout",
     "output_type": "stream",
     "text": [
      "20\n",
      "(7483196,)\n"
     ]
    }
   ],
   "source": [
    "print(len(mag_Bigarray_test))\n",
    "print((mag_Bigarray_test[0].shape))"
   ]
  },
  {
   "cell_type": "code",
   "execution_count": 224,
   "metadata": {},
   "outputs": [
    {
     "name": "stdout",
     "output_type": "stream",
     "text": [
      "<class 'numpy.ndarray'>\n",
      "[0.02112589 0.01366441 0.01793827 ... 0.01037669 0.00979749 0.00808257]\n"
     ]
    }
   ],
   "source": [
    "print(type(mag_Bigarray_test[0]))\n",
    "print((mag_fullarray[5]))"
   ]
  },
  {
   "cell_type": "code",
   "execution_count": 314,
   "metadata": {},
   "outputs": [],
   "source": [
    "from numpy import save\n",
    "from numpy import load\n",
    "#save('training_data1.npy',mag_Bigarray_train) ##Saving numpy array\n",
    "#save('testing_data2.npy',mag_Bigarray_test) ##Saving numpy array\n",
    "\n",
    "train_data = load('training_data1.npy',allow_pickle=True)\n",
    "test_data = load('testing_data1.npy',allow_pickle=True)"
   ]
  },
  {
   "cell_type": "code",
   "execution_count": 316,
   "metadata": {},
   "outputs": [
    {
     "name": "stdout",
     "output_type": "stream",
     "text": [
      "(48, 7483196)\n",
      "(20, 7483196)\n",
      "<class 'numpy.ndarray'>\n",
      "<class 'numpy.ndarray'>\n",
      "<class 'list'>\n"
     ]
    }
   ],
   "source": [
    "print((train_data.shape))\n",
    "labels_X = [1,1,1,1,1,1,1,1,1,1,1,1,1,1,1,1,1,1,1,1,1,1,1,1,0,0,0,0,0,0,0,0,0,0,0,0,0,0,0,0,0,0,0,0,0,0,0,0]\n",
    "#labels = [1,0,1]\n",
    "#print(labels[47])\n",
    "labels_Y = [1,1,1,1,1,1,1,1,1,1,0,0,0,0,0,0,0,0,0,0]\n",
    "print(test_data.shape)\n",
    "X_train = train_data\n",
    "Y_train = labels_X\n",
    "X_test  = test_data\n",
    "Y_test = labels_Y\n",
    "print(type(X_train))\n",
    "print(type(X_test))\n",
    "print(type(Y_train))"
   ]
  },
  {
   "cell_type": "code",
   "execution_count": 319,
   "metadata": {},
   "outputs": [],
   "source": [
    "model = SVC(kernel='rbf', gamma=\"auto\")\n",
    "#svclassifier = SVC(kernel='sigmoid')\n",
    "model.fit(X_train, Y_train)\n",
    "predictions = model.predict(X_test)"
   ]
  },
  {
   "cell_type": "code",
   "execution_count": 325,
   "metadata": {},
   "outputs": [
    {
     "name": "stdout",
     "output_type": "stream",
     "text": [
      "[[2 8]\n",
      " [4 6]]\n"
     ]
    }
   ],
   "source": [
    "cm = confusion_matrix(Y_test, predictions)\n",
    "print(cm)"
   ]
  },
  {
   "cell_type": "code",
   "execution_count": 330,
   "metadata": {},
   "outputs": [
    {
     "name": "stdout",
     "output_type": "stream",
     "text": [
      "              precision    recall  f1-score   support\n",
      "\n",
      "           0       0.33      0.20      0.25        10\n",
      "           1       0.43      0.60      0.50        10\n",
      "\n",
      "    accuracy                           0.40        20\n",
      "   macro avg       0.38      0.40      0.38        20\n",
      "weighted avg       0.38      0.40      0.38        20\n",
      "\n"
     ]
    }
   ],
   "source": [
    "cr = classification_report(Y_test, predictions)\n",
    "print(cr)"
   ]
  },
  {
   "cell_type": "code",
   "execution_count": 5,
   "metadata": {},
   "outputs": [
    {
     "ename": "error",
     "evalue": "OpenCV(4.1.2) C:\\projects\\opencv-python\\opencv\\modules\\imgproc\\src\\color.cpp:182: error: (-215:Assertion failed) !_src.empty() in function 'cv::cvtColor'\n",
     "output_type": "error",
     "traceback": [
      "\u001b[1;31m---------------------------------------------------------------------------\u001b[0m",
      "\u001b[1;31merror\u001b[0m                                     Traceback (most recent call last)",
      "\u001b[1;32m<ipython-input-5-cebdffe4c2bc>\u001b[0m in \u001b[0;36m<module>\u001b[1;34m\u001b[0m\n\u001b[0;32m     17\u001b[0m     \u001b[1;31m#cv2.imshow(\"input\", frame)\u001b[0m\u001b[1;33m\u001b[0m\u001b[1;33m\u001b[0m\u001b[1;33m\u001b[0m\u001b[0m\n\u001b[0;32m     18\u001b[0m     \u001b[1;31m# Converts each frame to grayscale - we previously only converted the first frame to grayscale\u001b[0m\u001b[1;33m\u001b[0m\u001b[1;33m\u001b[0m\u001b[1;33m\u001b[0m\u001b[0m\n\u001b[1;32m---> 19\u001b[1;33m     \u001b[0mgray\u001b[0m \u001b[1;33m=\u001b[0m \u001b[0mcv2\u001b[0m\u001b[1;33m.\u001b[0m\u001b[0mcvtColor\u001b[0m\u001b[1;33m(\u001b[0m\u001b[0mframe\u001b[0m\u001b[1;33m,\u001b[0m \u001b[0mcv2\u001b[0m\u001b[1;33m.\u001b[0m\u001b[0mCOLOR_BGR2GRAY\u001b[0m\u001b[1;33m)\u001b[0m\u001b[1;33m\u001b[0m\u001b[1;33m\u001b[0m\u001b[0m\n\u001b[0m\u001b[0;32m     20\u001b[0m     \u001b[1;31m# Calculates dense optical flow by Farneback method\u001b[0m\u001b[1;33m\u001b[0m\u001b[1;33m\u001b[0m\u001b[1;33m\u001b[0m\u001b[0m\n\u001b[0;32m     21\u001b[0m     \u001b[1;31m# https://docs.opencv.org/3.0-beta/modules/video/doc/motion_analysis_and_object_tracking.html#calcopticalflowfarneback\u001b[0m\u001b[1;33m\u001b[0m\u001b[1;33m\u001b[0m\u001b[1;33m\u001b[0m\u001b[0m\n",
      "\u001b[1;31merror\u001b[0m: OpenCV(4.1.2) C:\\projects\\opencv-python\\opencv\\modules\\imgproc\\src\\color.cpp:182: error: (-215:Assertion failed) !_src.empty() in function 'cv::cvtColor'\n"
     ]
    }
   ],
   "source": [
    "# The video feed is read in as a VideoCapture object\n",
    "cap = cv2.VideoCapture(\"mygeneratedvideo2.mp4\")\n",
    "# ret = a boolean return value from getting the frame, first_frame = the first frame in the entire video sequence\n",
    "ret, first_frame = cap.read()\n",
    "# Converts frame to grayscale because we only need the luminance channel for detecting edges - less computationally expensive\n",
    "prev_gray = cv2.cvtColor(first_frame, cv2.COLOR_BGR2GRAY)\n",
    "# Creates an image filled with zero intensities with the same dimensions as the frame\n",
    "mask = np.zeros_like(first_frame)\n",
    "# Sets image saturation to maximum\n",
    "mask[..., 1] = 255\n",
    "# ret = a boolean return value from getting the frame, frame = the current frame being projected in the video\n",
    "ret, frame = cap.read()\n",
    "while(cap.isOpened()):\n",
    "    # ret = a boolean return value from getting the frame, frame = the current frame being projected in the video\n",
    "    #ret, frame = cap.read()\n",
    "    # Opens a new window and displays the input frame\n",
    "    #cv2.imshow(\"input\", frame)\n",
    "    # Converts each frame to grayscale - we previously only converted the first frame to grayscale\n",
    "    gray = cv2.cvtColor(frame, cv2.COLOR_BGR2GRAY)\n",
    "    # Calculates dense optical flow by Farneback method\n",
    "    # https://docs.opencv.org/3.0-beta/modules/video/doc/motion_analysis_and_object_tracking.html#calcopticalflowfarneback\n",
    "    flow = cv2.calcOpticalFlowFarneback(prev_gray, gray, None, 0.5, 3, 15, 3, 5, 1.2, 0)\n",
    "    # Computes the magnitude and angle of the 2D vectors\n",
    "    magnitude, angle = cv2.cartToPolar(flow[..., 0], flow[..., 1])\n",
    "    # Sets image hue according to the optical flow direction\n",
    "    mask[..., 0] = angle * 180 / np.pi / 2\n",
    "    # Sets image value according to the optical flow magnitude (normalized)\n",
    "    mask[..., 2] = cv2.normalize(magnitude, None, 0, 255, cv2.NORM_MINMAX)\n",
    "    # Converts HSV to RGB (BGR) color representation\n",
    "    rgb = cv2.cvtColor(mask, cv2.COLOR_HSV2BGR)\n",
    "    # Opens a new window and displays the output frame\n",
    "    cv2.imshow(\"dense optical flow\", rgb)\n",
    "    # Updates previous frame\n",
    "    prev_gray = gray\n",
    "    # Frames are read by intervals of 1 millisecond. The programs breaks out of the while loop when the user presses the 'q' key\n",
    "    if cv2.waitKey(1) & 0xFF == ord('q'):\n",
    "        break\n",
    "    \n",
    "# The following frees up resources and closes all windows\n",
    "cap.release()\n",
    "cv2.destroyAllWindows()"
   ]
  },
  {
   "cell_type": "code",
   "execution_count": 16,
   "metadata": {},
   "outputs": [
    {
     "name": "stdout",
     "output_type": "stream",
     "text": [
      "158\n"
     ]
    }
   ],
   "source": [
    "print(len(mag_fullarray[50]))"
   ]
  },
  {
   "cell_type": "code",
   "execution_count": 17,
   "metadata": {},
   "outputs": [
    {
     "name": "stdout",
     "output_type": "stream",
     "text": [
      "<class 'numpy.ndarray'>\n"
     ]
    },
    {
     "data": {
      "image/png": "[encoded data removed]",
      "text/plain": [
       "<Figure size 432x288 with 1 Axes>"
      ]
     },
     "metadata": {
      "needs_background": "light"
     },
     "output_type": "display_data"
    }
   ],
   "source": [
    "im = Image.open(\"001.tif\")\n",
    "#im.show()\n",
    "imarray = np.array(im)\n",
    "print(type(imarray))\n",
    "plt.hist(imarray.ravel(),256,[0,256]); plt.show()"
   ]
  },
  {
   "cell_type": "code",
   "execution_count": null,
   "metadata": {
    "scrolled": true
   },
   "outputs": [
    {
     "name": "stdout",
     "output_type": "stream",
     "text": [
      "length 199\n",
      "0\n",
      "1\n"
     ]
    },
    {
     "name": "stderr",
     "output_type": "stream",
     "text": [
      "C:\\Users\\tetal\\Anaconda3\\lib\\site-packages\\ipykernel_launcher.py:11: MatplotlibDeprecationWarning: Adding an axes using the same arguments as a previous axes currently reuses the earlier instance.  In a future version, a new instance will always be created and returned.  Meanwhile, this warning can be suppressed, and the future behavior ensured, by passing a unique label to each axes instance.\n",
      "  # This is added back by InteractiveShellApp.init_path()\n",
      "C:\\Users\\tetal\\Anaconda3\\lib\\site-packages\\ipykernel_launcher.py:15: MatplotlibDeprecationWarning: Adding an axes using the same arguments as a previous axes currently reuses the earlier instance.  In a future version, a new instance will always be created and returned.  Meanwhile, this warning can be suppressed, and the future behavior ensured, by passing a unique label to each axes instance.\n",
      "  from ipykernel import kernelapp as app\n"
     ]
    },
    {
     "name": "stdout",
     "output_type": "stream",
     "text": [
      "2\n",
      "3\n",
      "4\n",
      "5\n",
      "6\n",
      "7\n",
      "8\n",
      "9\n",
      "10\n",
      "11\n",
      "12\n",
      "13\n",
      "14\n",
      "15\n",
      "16\n",
      "17\n",
      "18\n",
      "19\n",
      "20\n",
      "21\n",
      "22\n",
      "23\n",
      "24\n",
      "25\n",
      "26\n",
      "27\n",
      "28\n",
      "29\n",
      "30\n",
      "31\n",
      "32\n",
      "33\n",
      "34\n",
      "35\n",
      "36\n",
      "37\n",
      "38\n",
      "39\n",
      "40\n",
      "41\n",
      "42\n",
      "43\n",
      "44\n",
      "45\n",
      "46\n",
      "47\n",
      "48\n",
      "49\n",
      "50\n",
      "51\n",
      "52\n",
      "53\n",
      "54\n",
      "55\n",
      "56\n",
      "57\n",
      "58\n",
      "59\n",
      "60\n",
      "61\n",
      "62\n",
      "63\n",
      "64\n",
      "65\n",
      "66\n",
      "67\n",
      "68\n",
      "69\n",
      "70\n",
      "71\n",
      "72\n",
      "73\n",
      "74\n",
      "75\n",
      "76\n",
      "77\n",
      "78\n",
      "79\n",
      "80\n",
      "81\n",
      "82\n",
      "83\n",
      "84\n",
      "85\n",
      "86\n",
      "87\n"
     ]
    },
    {
     "name": "stderr",
     "output_type": "stream",
     "text": [
      "ERROR:root:Internal Python error in the inspect module.\n",
      "Below is the traceback from this internal error.\n",
      "\n"
     ]
    },
    {
     "name": "stdout",
     "output_type": "stream",
     "text": [
      "Traceback (most recent call last):\n",
      "  File \"C:\\Users\\tetal\\Anaconda3\\lib\\site-packages\\IPython\\core\\interactiveshell.py\", line 3326, in run_code\n",
      "    exec(code_obj, self.user_global_ns, self.user_ns)\n",
      "  File \"<ipython-input-22-d28eab09612f>\", line 19, in <module>\n",
      "    plt.savefig('C:/Users/tetal/AI/Test001/New/00%s.png' %(i+1))\n",
      "  File \"C:\\Users\\tetal\\Anaconda3\\lib\\site-packages\\matplotlib\\pyplot.py\", line 723, in savefig\n",
      "    fig.canvas.draw_idle()   # need this if 'transparent=True' to reset colors\n",
      "  File \"C:\\Users\\tetal\\Anaconda3\\lib\\site-packages\\matplotlib\\backend_bases.py\", line 1907, in draw_idle\n",
      "    self.draw(*args, **kwargs)\n",
      "  File \"C:\\Users\\tetal\\Anaconda3\\lib\\site-packages\\matplotlib\\backends\\backend_agg.py\", line 388, in draw\n",
      "    self.figure.draw(self.renderer)\n",
      "  File \"C:\\Users\\tetal\\Anaconda3\\lib\\site-packages\\matplotlib\\artist.py\", line 38, in draw_wrapper\n",
      "    return draw(artist, renderer, *args, **kwargs)\n",
      "  File \"C:\\Users\\tetal\\Anaconda3\\lib\\site-packages\\matplotlib\\figure.py\", line 1709, in draw\n",
      "    renderer, self, artists, self.suppressComposite)\n",
      "  File \"C:\\Users\\tetal\\Anaconda3\\lib\\site-packages\\matplotlib\\image.py\", line 135, in _draw_list_compositing_images\n",
      "    a.draw(renderer)\n",
      "  File \"C:\\Users\\tetal\\Anaconda3\\lib\\site-packages\\matplotlib\\artist.py\", line 38, in draw_wrapper\n",
      "    return draw(artist, renderer, *args, **kwargs)\n",
      "  File \"C:\\Users\\tetal\\Anaconda3\\lib\\site-packages\\matplotlib\\axes\\_base.py\", line 2647, in draw\n",
      "    mimage._draw_list_compositing_images(renderer, self, artists)\n",
      "  File \"C:\\Users\\tetal\\Anaconda3\\lib\\site-packages\\matplotlib\\image.py\", line 135, in _draw_list_compositing_images\n",
      "    a.draw(renderer)\n",
      "  File \"C:\\Users\\tetal\\Anaconda3\\lib\\site-packages\\matplotlib\\artist.py\", line 38, in draw_wrapper\n",
      "    return draw(artist, renderer, *args, **kwargs)\n",
      "  File \"C:\\Users\\tetal\\Anaconda3\\lib\\site-packages\\matplotlib\\patches.py\", line 575, in draw\n",
      "    affine = transform.get_affine()\n",
      "  File \"C:\\Users\\tetal\\Anaconda3\\lib\\site-packages\\matplotlib\\transforms.py\", line 2400, in get_affine\n",
      "    return Affine2D(np.dot(self._b.get_affine().get_matrix(),\n",
      "  File \"C:\\Users\\tetal\\Anaconda3\\lib\\site-packages\\matplotlib\\transforms.py\", line 2401, in get_affine\n",
      "    self._a.get_affine().get_matrix()))\n",
      "KeyboardInterrupt\n",
      "\n",
      "During handling of the above exception, another exception occurred:\n",
      "\n",
      "Traceback (most recent call last):\n",
      "  File \"C:\\Users\\tetal\\Anaconda3\\lib\\site-packages\\IPython\\core\\interactiveshell.py\", line 2040, in showtraceback\n",
      "    stb = value._render_traceback_()\n",
      "AttributeError: 'KeyboardInterrupt' object has no attribute '_render_traceback_'\n",
      "\n",
      "During handling of the above exception, another exception occurred:\n",
      "\n",
      "Traceback (most recent call last):\n",
      "  File \"C:\\Users\\tetal\\Anaconda3\\lib\\site-packages\\IPython\\core\\ultratb.py\", line 319, in wrapped\n",
      "    return f(*args, **kwargs)\n",
      "  File \"C:\\Users\\tetal\\Anaconda3\\lib\\site-packages\\IPython\\core\\ultratb.py\", line 353, in _fixed_getinnerframes\n",
      "    records = fix_frame_records_filenames(inspect.getinnerframes(etb, context))\n",
      "  File \"C:\\Users\\tetal\\Anaconda3\\lib\\inspect.py\", line 1502, in getinnerframes\n",
      "    frameinfo = (tb.tb_frame,) + getframeinfo(tb, context)\n",
      "  File \"C:\\Users\\tetal\\Anaconda3\\lib\\inspect.py\", line 1460, in getframeinfo\n",
      "    filename = getsourcefile(frame) or getfile(frame)\n",
      "  File \"C:\\Users\\tetal\\Anaconda3\\lib\\inspect.py\", line 696, in getsourcefile\n",
      "    if getattr(getmodule(object, filename), '__loader__', None) is not None:\n",
      "  File \"C:\\Users\\tetal\\Anaconda3\\lib\\inspect.py\", line 732, in getmodule\n",
      "    for modname, module in list(sys.modules.items()):\n",
      "KeyboardInterrupt\n",
      "\n",
      "During handling of the above exception, another exception occurred:\n",
      "\n",
      "Traceback (most recent call last):\n",
      "  File \"C:\\Users\\tetal\\Anaconda3\\lib\\site-packages\\IPython\\core\\ultratb.py\", line 1101, in get_records\n",
      "    return _fixed_getinnerframes(etb, number_of_lines_of_context, tb_offset)\n",
      "  File \"C:\\Users\\tetal\\Anaconda3\\lib\\site-packages\\IPython\\core\\ultratb.py\", line 321, in wrapped\n",
      "    inspect.findsource = save_findsource\n",
      "KeyboardInterrupt\n"
     ]
    },
    {
     "ename": "KeyboardInterrupt",
     "evalue": "",
     "output_type": "error",
     "traceback": [
      "\u001b[1;31m---------------------------------------------------------------------------\u001b[0m"
     ]
    }
   ],
   "source": [
    "length = len(mag_fullarray)\n",
    "print(\"length\",length)\n",
    "for i in range (length):\n",
    "    print(i)\n",
    "    mag_array = mag_fullarray[i] \n",
    "    img = images[i+1]\n",
    "    #im1array = cv2.imread(img)\n",
    "    im = Image.open(img)\n",
    "    imarray = np.array(im)\n",
    "    image_array = np.asfarray(imarray).flatten().reshape((158,238))\n",
    "    plt.subplot(2,2,1)\n",
    "    plt.imshow(image_array)\n",
    "    plt.title(\"Image\")\n",
    "    \n",
    "    plt.subplot(2,2,2)\n",
    "    plt.hist(mag_array,bins=22)\n",
    "    plt.title(\"Histogram\")\n",
    "    \n",
    "    plt.savefig('C:/Users/tetal/AI/Test001/New/00%s.png' %(i+1))\n",
    "    #plt.show()\n",
    "    #plt.imshow(image_array)"
   ]
  },
  {
   "cell_type": "code",
   "execution_count": null,
   "metadata": {},
   "outputs": [],
   "source": [
    "min = 0\n",
    "max = 0\n",
    "length = len(mag_fullarray)\n",
    "print(\"length\",length)\n",
    "for i in range (length):\n",
    "print(i)"
   ]
  },
  {
   "cell_type": "code",
   "execution_count": 16,
   "metadata": {},
   "outputs": [
    {
     "name": "stdout",
     "output_type": "stream",
     "text": [
      "37604\n",
      "0.6069918\n"
     ]
    }
   ],
   "source": [
    "print(mag_array.size)\n",
    "print(mag_array[0][237])"
   ]
  },
  {
   "cell_type": "code",
   "execution_count": 22,
   "metadata": {},
   "outputs": [
    {
     "data": {
      "image/png": "[encoded data removed]",
      "text/plain": [
       "<Figure size 432x288 with 1 Axes>"
      ]
     },
     "metadata": {
      "needs_background": "light"
     },
     "output_type": "display_data"
    }
   ],
   "source": [
    "\n",
    "img = cv2.imread('001.tif',0)\n",
    "plt.hist(img.ravel(),3,[0,256]); plt.show()"
   ]
  },
  {
   "cell_type": "markdown",
   "metadata": {},
   "source": []
  },
  {
   "cell_type": "code",
   "execution_count": null,
   "metadata": {},
   "outputs": [],
   "source": [
    "print(\"hello!\")"
   ]
  },
  {
   "cell_type": "code",
   "execution_count": null,
   "metadata": {},
   "outputs": [],
   "source": []
  },
  {
   "cell_type": "code",
   "execution_count": null,
   "metadata": {},
   "outputs": [],
   "source": []
  },
  {
   "cell_type": "code",
   "execution_count": null,
   "metadata": {},
   "outputs": [],
   "source": []
  },
  {
   "cell_type": "code",
   "execution_count": null,
   "metadata": {},
   "outputs": [],
   "source": []
  }
 ],
 "metadata": {
  "kernelspec": {
   "display_name": "Python 3",
   "language": "python",
   "name": "python3"
  },
  "language_info": {
   "codemirror_mode": {
    "name": "ipython",
    "version": 3
   },
   "file_extension": ".py",
   "mimetype": "text/x-python",
   "name": "python",
   "nbconvert_exporter": "python",
   "pygments_lexer": "ipython3",
   "version": "3.7.4"
  }
 },
 "nbformat": 4,
 "nbformat_minor": 2
}
